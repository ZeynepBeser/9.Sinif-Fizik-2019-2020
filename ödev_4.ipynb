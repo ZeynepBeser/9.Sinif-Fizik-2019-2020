{
  "nbformat": 4,
  "nbformat_minor": 0,
  "metadata": {
    "colab": {
      "name": "ödev_4.ipynb",
      "provenance": [],
      "authorship_tag": "ABX9TyNHXv+ayJ78NcS/Cw6GIE6D",
      "include_colab_link": true
    },
    "kernelspec": {
      "name": "python3",
      "display_name": "Python 3"
    }
  },
  "cells": [
    {
      "cell_type": "markdown",
      "metadata": {
        "id": "view-in-github",
        "colab_type": "text"
      },
      "source": [
        "<a href=\"https://colab.research.google.com/github/ZeynepBeser/9.Sinif-Fizik-2019-2020/blob/master/%C3%B6dev_4.ipynb\" target=\"_parent\"><img src=\"https://colab.research.google.com/assets/colab-badge.svg\" alt=\"Open In Colab\"/></a>"
      ]
    },
    {
      "cell_type": "markdown",
      "metadata": {
        "id": "e5KJk2xHGbXr",
        "colab_type": "text"
      },
      "source": [
        "**Ödev 1**\n",
        "\n",
        "  Fermat'nın Küçük Teoremi:"
      ]
    },
    {
      "cell_type": "code",
      "metadata": {
        "id": "ku45sCiXGsI9",
        "colab_type": "code",
        "colab": {}
      },
      "source": [
        "print(\"p asal sayı ve n∈N ise\") $p|n^p-n$      "
      ],
      "execution_count": 0,
      "outputs": []
    },
    {
      "cell_type": "markdown",
      "metadata": {
        "id": "ZA4JCbXzVoQy",
        "colab_type": "text"
      },
      "source": [
        "**Ödev 2**"
      ]
    },
    {
      "cell_type": "code",
      "metadata": {
        "id": "5D_-KIwDVrVw",
        "colab_type": "code",
        "colab": {}
      },
      "source": [
        "def Leibniz_pi(n):\n",
        "  sum=0\n",
        "  for i in range(0,n+1):\n",
        "    sum= sum+(-1)**i/(2*i+1)\n",
        "  result = sum*4\n",
        "  print(\"Pi=\"+ str(result))"
      ],
      "execution_count": 0,
      "outputs": []
    },
    {
      "cell_type": "markdown",
      "metadata": {
        "id": "Juka0FaUKAQL",
        "colab_type": "text"
      },
      "source": [
        "**Ödev 3**\n"
      ]
    },
    {
      "cell_type": "code",
      "metadata": {
        "id": "GJQItfbiQFZA",
        "colab_type": "code",
        "colab": {}
      },
      "source": [
        "n=[]\n",
        "for i in range (0,999):\n",
        "  if(i%3==0) or (i%5==0):\n",
        "    n1.appened(str(i))\n",
        "print(n1)"
      ],
      "execution_count": 0,
      "outputs": []
    },
    {
      "cell_type": "markdown",
      "metadata": {
        "id": "sEXM-1A3Q2Y-",
        "colab_type": "text"
      },
      "source": [
        "**Ödev 4**"
      ]
    },
    {
      "cell_type": "code",
      "metadata": {
        "id": "8hp2uQY5SGzj",
        "colab_type": "code",
        "colab": {}
      },
      "source": [
        "def fib(n):\n",
        "  a=0\n",
        "  b=1\n",
        "\n",
        "  if n==1:\n",
        "    print(a)\n",
        "  else:\n",
        "    print(a)\n",
        "    print(b)\n",
        "\n",
        "    for i in range(2,n):\n",
        "      c=a+b\n",
        "      a=b\n",
        "      b=c\n",
        "      if c<=4000000:\n",
        "        if c%2==0:\n",
        "          print(c)\n",
        "\n",
        "fib)(4000000)"
      ],
      "execution_count": 0,
      "outputs": []
    }
  ]
}